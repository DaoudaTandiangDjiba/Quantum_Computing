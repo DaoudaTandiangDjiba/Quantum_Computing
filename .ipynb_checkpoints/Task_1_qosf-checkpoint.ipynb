{
 "cells": [
  {
   "cell_type": "code",
   "execution_count": 1,
   "metadata": {},
   "outputs": [],
   "source": [
    "# import libraries\n",
    "import qiskit as q\n",
    "from qiskit import Aer\n",
    "from qiskit.circuit import Parameter\n",
    "%matplotlib inline"
   ]
  },
  {
   "cell_type": "code",
   "execution_count": 2,
   "metadata": {},
   "outputs": [
    {
     "name": "stdout",
     "output_type": "stream",
     "text": [
      "qasm_simulator\n",
      "statevector_simulator\n",
      "unitary_simulator\n",
      "pulse_simulator\n"
     ]
    }
   ],
   "source": [
    "# Look at the existance backend\n",
    "for backend in Aer.backends():\n",
    "    print(backend)"
   ]
  },
  {
   "cell_type": "code",
   "execution_count": 3,
   "metadata": {},
   "outputs": [],
   "source": [
    "# Choose a backend\n",
    "sim_backend = Aer.get_backend('qasm_simulator')"
   ]
  },
  {
   "cell_type": "code",
   "execution_count": null,
   "metadata": {},
   "outputs": [],
   "source": [
    "job = q.execute(circuit, backend=sim_backend, shots=500)\n",
    "job_monitor(job)"
   ]
  },
  {
   "cell_type": "code",
   "execution_count": 7,
   "metadata": {},
   "outputs": [
    {
     "data": {
      "text/html": [
       "<pre style=\"word-wrap: normal;white-space: pre;background: #fff0;line-height: 1.1;font-family: &quot;Courier New&quot;,Courier,monospace\">        ┌─┐   \n",
       "q_0: ─■─┤M├───\n",
       "      │ └╥┘┌─┐\n",
       "q_1: ─■──╫─┤M├\n",
       "         ║ └╥┘\n",
       "q_2: ────╫──╫─\n",
       "         ║  ║ \n",
       "q_3: ────╫──╫─\n",
       "         ║  ║ \n",
       "c: 4/════╩══╩═\n",
       "         0  1 </pre>"
      ],
      "text/plain": [
       "        ┌─┐   \n",
       "q_0: ─■─┤M├───\n",
       "      │ └╥┘┌─┐\n",
       "q_1: ─■──╫─┤M├\n",
       "         ║ └╥┘\n",
       "q_2: ────╫──╫─\n",
       "         ║  ║ \n",
       "q_3: ────╫──╫─\n",
       "         ║  ║ \n",
       "c: 4/════╩══╩═\n",
       "         0  1 "
      ]
     },
     "execution_count": 7,
     "metadata": {},
     "output_type": "execute_result"
    }
   ],
   "source": [
    "# Construct quantum circuit\n",
    "circ = q.QuantumCircuit(4, 4)\n",
    "circ.cz(0, 1)\n",
    "circ.measure([0,1], [0,1])\n",
    "circ.draw()"
   ]
  },
  {
   "cell_type": "code",
   "execution_count": null,
   "metadata": {},
   "outputs": [],
   "source": []
  },
  {
   "cell_type": "code",
   "execution_count": 31,
   "metadata": {},
   "outputs": [
    {
     "data": {
      "text/plain": [
       "<qiskit.circuit.instructionset.InstructionSet at 0x24b63d586d0>"
      ]
     },
     "execution_count": 31,
     "metadata": {},
     "output_type": "execute_result"
    }
   ],
   "source": [
    "# integrate the parameter theta\n",
    "theta = Parameter('θ')\n",
    "\n",
    "n = 4\n",
    "\n",
    "qc = q.QuantumCircuit(4, 4)\n",
    "\n",
    "\n",
    "qc.cz(0, 1)\n",
    "for i in range(n-1):\n",
    "    qc.cz(i, i+1)\n",
    "    \n",
    "qc.barrier()\n",
    "qc.rx(theta, range(4))\n",
    "qc.barrier()"
   ]
  },
  {
   "cell_type": "code",
   "execution_count": 32,
   "metadata": {},
   "outputs": [
    {
     "data": {
      "image/png": "[encoded data removed]",
      "text/plain": [
       "<Figure size 562.177x325.08 with 1 Axes>"
      ]
     },
     "execution_count": 32,
     "metadata": {},
     "output_type": "execute_result"
    }
   ],
   "source": [
    "qc.draw('mpl')"
   ]
  }
 ],
 "metadata": {
  "kernelspec": {
   "display_name": "Python 3",
   "language": "python",
   "name": "python3"
  },
  "language_info": {
   "codemirror_mode": {
    "name": "ipython",
    "version": 3
   },
   "file_extension": ".py",
   "mimetype": "text/x-python",
   "name": "python",
   "nbconvert_exporter": "python",
   "pygments_lexer": "ipython3",
   "version": "3.8.5"
  }
 },
 "nbformat": 4,
 "nbformat_minor": 4
}
