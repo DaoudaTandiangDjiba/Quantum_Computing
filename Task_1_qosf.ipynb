{
 "cells": [
  {
   "cell_type": "code",
   "execution_count": 1,
   "metadata": {},
   "outputs": [],
   "source": [
    "# import libraries\n",
    "import qiskit as q\n",
    "from qiskit import Aer\n",
    "from qiskit.tools.monitor import job_monitor\n",
    "from qiskit.visualization import plot_histogram\n",
    "import numpy as np\n",
    "from qiskit.circuit import Parameter\n",
    "%matplotlib inline"
   ]
  },
  {
   "cell_type": "code",
   "execution_count": 30,
   "metadata": {},
   "outputs": [
    {
     "data": {
      "text/html": [
       "<pre style=\"word-wrap: normal;white-space: pre;background: #fff0;line-height: 1.1;font-family: &quot;Courier New&quot;,Courier,monospace\">                    ┌─┐      \n",
       "q_0: ─■──■──■───────┤M├──────\n",
       "      │  │  │       └╥┘      \n",
       "q_1: ─■──┼──┼──■──■──╫───────\n",
       "         │  │  │  │  ║       \n",
       "q_2: ────■──┼──■──┼──╫──■────\n",
       "            │     │  ║  │ ┌─┐\n",
       "q_3: ───────■─────■──╫──■─┤M├\n",
       "                     ║    └╥┘\n",
       "c: 4/════════════════╩═════╩═\n",
       "                     0     3 </pre>"
      ],
      "text/plain": [
       "                    ┌─┐      \n",
       "q_0: ─■──■──■───────┤M├──────\n",
       "      │  │  │       └╥┘      \n",
       "q_1: ─■──┼──┼──■──■──╫───────\n",
       "         │  │  │  │  ║       \n",
       "q_2: ────■──┼──■──┼──╫──■────\n",
       "            │     │  ║  │ ┌─┐\n",
       "q_3: ───────■─────■──╫──■─┤M├\n",
       "                     ║    └╥┘\n",
       "c: 4/════════════════╩═════╩═\n",
       "                     0     3 "
      ]
     },
     "execution_count": 30,
     "metadata": {},
     "output_type": "execute_result"
    }
   ],
   "source": [
    "# Construct quantum circuit\n",
    "circ = q.QuantumCircuit(4, 4)\n",
    "\n",
    "circ.cz(0, 1)\n",
    "circ.cz(0, 2)\n",
    "circ.cz(0, 3)\n",
    "circ.cz(1, 2)\n",
    "circ.cz(1, 3)\n",
    "circ.cz(2, 3)\n",
    "\n",
    "circ.measure([0,3],[0,3])\n",
    "\n",
    "circ.draw()"
   ]
  },
  {
   "cell_type": "code",
   "execution_count": 31,
   "metadata": {},
   "outputs": [
    {
     "data": {
      "image/png": "[encoded data removed]",
      "text/plain": [
       "<Figure size 682.577x325.08 with 1 Axes>"
      ]
     },
     "execution_count": 31,
     "metadata": {},
     "output_type": "execute_result"
    }
   ],
   "source": [
    "# integrate the parameter theta\n",
    "theta = Parameter('θ')\n",
    "\n",
    "pcirc = q.QuantumCircuit(4, 4)\n",
    "\n",
    "n = 4\n",
    "   \n",
    "pcirc.barrier()\n",
    "pcirc.rz(theta, range(4))\n",
    "pcirc.barrier()\n",
    "\n",
    "pcirc.cz(0, 1)\n",
    "pcirc.cz(0, 2)\n",
    "pcirc.cz(0, 3)\n",
    "pcirc.cz(1, 2)\n",
    "pcirc.cz(1, 3)\n",
    "pcirc.cz(2, 3)\n",
    "\n",
    "pcirc.draw('mpl')"
   ]
  },
  {
   "cell_type": "code",
   "execution_count": 32,
   "metadata": {},
   "outputs": [],
   "source": [
    "theta_range = np.linspace(0, 2 * np.pi, 128)"
   ]
  },
  {
   "cell_type": "code",
   "execution_count": 33,
   "metadata": {},
   "outputs": [
    {
     "data": {
      "text/html": [
       "<pre style=\"word-wrap: normal;white-space: pre;background: #fff0;line-height: 1.1;font-family: &quot;Courier New&quot;,Courier,monospace\">      ░ ┌─────────┐ ░                   \n",
       "q_0: ─░─┤ RZ(2pi) ├─░──■──■──■──────────\n",
       "      ░ ├─────────┤ ░  │  │  │          \n",
       "q_1: ─░─┤ RZ(2pi) ├─░──■──┼──┼──■──■────\n",
       "      ░ ├─────────┤ ░     │  │  │  │    \n",
       "q_2: ─░─┤ RZ(2pi) ├─░─────■──┼──■──┼──■─\n",
       "      ░ ├─────────┤ ░        │     │  │ \n",
       "q_3: ─░─┤ RZ(2pi) ├─░────────■─────■──■─\n",
       "      ░ └─────────┘ ░                   \n",
       "c: 4/═══════════════════════════════════\n",
       "                                        </pre>"
      ],
      "text/plain": [
       "      ░ ┌─────────┐ ░                   \n",
       "q_0: ─░─┤ RZ(2pi) ├─░──■──■──■──────────\n",
       "      ░ ├─────────┤ ░  │  │  │          \n",
       "q_1: ─░─┤ RZ(2pi) ├─░──■──┼──┼──■──■────\n",
       "      ░ ├─────────┤ ░     │  │  │  │    \n",
       "q_2: ─░─┤ RZ(2pi) ├─░─────■──┼──■──┼──■─\n",
       "      ░ ├─────────┤ ░        │     │  │ \n",
       "q_3: ─░─┤ RZ(2pi) ├─░────────■─────■──■─\n",
       "      ░ └─────────┘ ░                   \n",
       "c: 4/═══════════════════════════════════\n",
       "                                        "
      ]
     },
     "execution_count": 33,
     "metadata": {},
     "output_type": "execute_result"
    }
   ],
   "source": [
    "circuits = [pcirc.bind_parameters({theta: theta_val})\n",
    "            for theta_val in theta_range]\n",
    "\n",
    "circuits[-1].draw()"
   ]
  },
  {
   "cell_type": "code",
   "execution_count": 34,
   "metadata": {},
   "outputs": [
    {
     "name": "stdout",
     "output_type": "stream",
     "text": [
      "{Parameter(θ)}\n"
     ]
    }
   ],
   "source": [
    "print(pcirc.parameters)"
   ]
  },
  {
   "cell_type": "code",
   "execution_count": 35,
   "metadata": {},
   "outputs": [
    {
     "name": "stdout",
     "output_type": "stream",
     "text": [
      "qasm_simulator\n",
      "statevector_simulator\n",
      "unitary_simulator\n",
      "pulse_simulator\n"
     ]
    }
   ],
   "source": [
    "# Look at the existance backend\n",
    "for backend in Aer.backends():\n",
    "    print(backend)"
   ]
  },
  {
   "cell_type": "code",
   "execution_count": 36,
   "metadata": {},
   "outputs": [],
   "source": [
    "# Choose a backend\n",
    "sim_backend = Aer.get_backend('qasm_simulator')"
   ]
  },
  {
   "cell_type": "code",
   "execution_count": 37,
   "metadata": {},
   "outputs": [
    {
     "name": "stdout",
     "output_type": "stream",
     "text": [
      "Job Status: job has successfully run\n"
     ]
    }
   ],
   "source": [
    "job = q.execute(circ, backend=sim_backend, shots=1024)\n",
    "job_monitor(job)"
   ]
  },
  {
   "cell_type": "code",
   "execution_count": 38,
   "metadata": {},
   "outputs": [
    {
     "data": {
      "image/png": "[encoded data removed]",
      "text/plain": [
       "<Figure size 504x360 with 1 Axes>"
      ]
     },
     "execution_count": 38,
     "metadata": {},
     "output_type": "execute_result"
    }
   ],
   "source": [
    "result = job.result()\n",
    "counts = result.get_counts(circ)\n",
    "plot_histogram([counts])"
   ]
  },
  {
   "cell_type": "code",
   "execution_count": null,
   "metadata": {},
   "outputs": [],
   "source": []
  }
 ],
 "metadata": {
  "kernelspec": {
   "display_name": "Python 3",
   "language": "python",
   "name": "python3"
  },
  "language_info": {
   "codemirror_mode": {
    "name": "ipython",
    "version": 3
   },
   "file_extension": ".py",
   "mimetype": "text/x-python",
   "name": "python",
   "nbconvert_exporter": "python",
   "pygments_lexer": "ipython3",
   "version": "3.8.5"
  }
 },
 "nbformat": 4,
 "nbformat_minor": 4
}
